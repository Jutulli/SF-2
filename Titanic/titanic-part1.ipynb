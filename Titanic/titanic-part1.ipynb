{
 "cells": [
  {
   "cell_type": "markdown",
   "metadata": {},
   "source": [
    "# part 1"
   ]
  },
  {
   "cell_type": "markdown",
   "metadata": {},
   "source": [
    "import all necessary libraries (i.e. pandas and matplotlib)"
   ]
  },
  {
   "cell_type": "code",
   "execution_count": 1,
   "metadata": {},
   "outputs": [],
   "source": [
    "# your code here\n",
    "import pandas as pd\n",
    "import matplotlib.pyplot as plit"
   ]
  },
  {
   "cell_type": "markdown",
   "metadata": {},
   "source": [
    "Read the provided file `titanic.csv` into a DataFrame"
   ]
  },
  {
   "cell_type": "code",
   "execution_count": 3,
   "metadata": {},
   "outputs": [],
   "source": [
    "# your code here\n",
    "titanic = pd.read_csv('titanic.csv')"
   ]
  },
  {
   "cell_type": "markdown",
   "metadata": {},
   "source": [
    "print the following\n",
    "- entries from the data frame\n",
    "- descriptive statistics, what is the average age, the maximum number of siblings and children? \n",
    "- general information\n",
    "- first 5 entries\n",
    "- first 15 entries\n",
    "- last 5 entries\n",
    "- last 15 entries\n",
    "- sample of random 10 entries"
   ]
  },
  {
   "cell_type": "code",
   "execution_count": null,
   "metadata": {},
   "outputs": [
    {
     "name": "stdout",
     "output_type": "stream",
     "text": [
      "     survived  pclass     sex   age  sibsp     fare   class    who  \\\n",
      "0           0       3    male  22.0      1   7.2500   Third    man   \n",
      "1           1       1  female  38.0      1  71.2833   First  woman   \n",
      "2           1       3  female  26.0      0   7.9250   Third  woman   \n",
      "3           1       1  female  35.0      1  53.1000   First  woman   \n",
      "4           0       3    male  35.0      0   8.0500   Third    man   \n",
      "..        ...     ...     ...   ...    ...      ...     ...    ...   \n",
      "886         0       2    male  27.0      0  13.0000  Second    man   \n",
      "887         1       1  female  19.0      0  30.0000   First  woman   \n",
      "888         0       3  female   NaN      1  23.4500   Third  woman   \n",
      "889         1       1    male  26.0      0  30.0000   First    man   \n",
      "890         0       3    male  32.0      0   7.7500   Third    man   \n",
      "\n",
      "     adult_male deck  embark_town alive  alone  \n",
      "0          True  NaN  Southampton    no  False  \n",
      "1         False    C    Cherbourg   yes  False  \n",
      "2         False  NaN  Southampton   yes   True  \n",
      "3         False    C  Southampton   yes  False  \n",
      "4          True  NaN  Southampton    no   True  \n",
      "..          ...  ...          ...   ...    ...  \n",
      "886        True  NaN  Southampton    no   True  \n",
      "887       False    B  Southampton   yes   True  \n",
      "888       False  NaN  Southampton    no  False  \n",
      "889        True    C    Cherbourg   yes   True  \n",
      "890        True  NaN   Queenstown    no   True  \n",
      "\n",
      "[891 rows x 13 columns]\n",
      "<class 'pandas.core.frame.DataFrame'>\n",
      "RangeIndex: 891 entries, 0 to 890\n",
      "Data columns (total 13 columns):\n",
      " #   Column       Non-Null Count  Dtype  \n",
      "---  ------       --------------  -----  \n",
      " 0   survived     891 non-null    int64  \n",
      " 1   pclass       891 non-null    int64  \n",
      " 2   sex          891 non-null    object \n",
      " 3   age          714 non-null    float64\n",
      " 4   sibsp        891 non-null    int64  \n",
      " 5   fare         891 non-null    float64\n",
      " 6   class        891 non-null    object \n",
      " 7   who          891 non-null    object \n",
      " 8   adult_male   891 non-null    bool   \n",
      " 9   deck         203 non-null    object \n",
      " 10  embark_town  889 non-null    object \n",
      " 11  alive        891 non-null    object \n",
      " 12  alone        891 non-null    bool   \n",
      "dtypes: bool(2), float64(2), int64(3), object(6)\n",
      "memory usage: 78.4+ KB\n",
      "None\n",
      "   survived  pclass     sex   age  sibsp     fare  class    who  adult_male  \\\n",
      "0         0       3    male  22.0      1   7.2500  Third    man        True   \n",
      "1         1       1  female  38.0      1  71.2833  First  woman       False   \n",
      "2         1       3  female  26.0      0   7.9250  Third  woman       False   \n",
      "3         1       1  female  35.0      1  53.1000  First  woman       False   \n",
      "4         0       3    male  35.0      0   8.0500  Third    man        True   \n",
      "\n",
      "  deck  embark_town alive  alone  \n",
      "0  NaN  Southampton    no  False  \n",
      "1    C    Cherbourg   yes  False  \n",
      "2  NaN  Southampton   yes   True  \n",
      "3    C  Southampton   yes  False  \n",
      "4  NaN  Southampton    no   True  \n",
      "    survived  pclass     sex   age  sibsp     fare   class    who  adult_male  \\\n",
      "0          0       3    male  22.0      1   7.2500   Third    man        True   \n",
      "1          1       1  female  38.0      1  71.2833   First  woman       False   \n",
      "2          1       3  female  26.0      0   7.9250   Third  woman       False   \n",
      "3          1       1  female  35.0      1  53.1000   First  woman       False   \n",
      "4          0       3    male  35.0      0   8.0500   Third    man        True   \n",
      "5          0       3    male   NaN      0   8.4583   Third    man        True   \n",
      "6          0       1    male  54.0      0  51.8625   First    man        True   \n",
      "7          0       3    male   2.0      3  21.0750   Third  child       False   \n",
      "8          1       3  female  27.0      0  11.1333   Third  woman       False   \n",
      "9          1       2  female  14.0      1  30.0708  Second  child       False   \n",
      "10         1       3  female   4.0      1  16.7000   Third  child       False   \n",
      "11         1       1  female  58.0      0  26.5500   First  woman       False   \n",
      "12         0       3    male  20.0      0   8.0500   Third    man        True   \n",
      "13         0       3    male  39.0      1  31.2750   Third    man        True   \n",
      "14         0       3  female  14.0      0   7.8542   Third  child       False   \n",
      "\n",
      "   deck  embark_town alive  alone  \n",
      "0   NaN  Southampton    no  False  \n",
      "1     C    Cherbourg   yes  False  \n",
      "2   NaN  Southampton   yes   True  \n",
      "3     C  Southampton   yes  False  \n",
      "4   NaN  Southampton    no   True  \n",
      "5   NaN   Queenstown    no   True  \n",
      "6     E  Southampton    no   True  \n",
      "7   NaN  Southampton    no  False  \n",
      "8   NaN  Southampton   yes  False  \n",
      "9   NaN    Cherbourg   yes  False  \n",
      "10    G  Southampton   yes  False  \n",
      "11    C  Southampton   yes   True  \n",
      "12  NaN  Southampton    no   True  \n",
      "13  NaN  Southampton    no  False  \n",
      "14  NaN  Southampton    no   True  \n",
      "     survived  pclass     sex   age  sibsp   fare   class    who  adult_male  \\\n",
      "886         0       2    male  27.0      0  13.00  Second    man        True   \n",
      "887         1       1  female  19.0      0  30.00   First  woman       False   \n",
      "888         0       3  female   NaN      1  23.45   Third  woman       False   \n",
      "889         1       1    male  26.0      0  30.00   First    man        True   \n",
      "890         0       3    male  32.0      0   7.75   Third    man        True   \n",
      "\n",
      "    deck  embark_town alive  alone  \n",
      "886  NaN  Southampton    no   True  \n",
      "887    B  Southampton   yes   True  \n",
      "888  NaN  Southampton    no  False  \n",
      "889    C    Cherbourg   yes   True  \n",
      "890  NaN   Queenstown    no   True  \n",
      "     survived  pclass     sex   age  sibsp     fare   class    who  \\\n",
      "876         0       3    male  20.0      0   9.8458   Third    man   \n",
      "877         0       3    male  19.0      0   7.8958   Third    man   \n",
      "878         0       3    male   NaN      0   7.8958   Third    man   \n",
      "879         1       1  female  56.0      0  83.1583   First  woman   \n",
      "880         1       2  female  25.0      0  26.0000  Second  woman   \n",
      "881         0       3    male  33.0      0   7.8958   Third    man   \n",
      "882         0       3  female  22.0      0  10.5167   Third  woman   \n",
      "883         0       2    male  28.0      0  10.5000  Second    man   \n",
      "884         0       3    male  25.0      0   7.0500   Third    man   \n",
      "885         0       3  female  39.0      0  29.1250   Third  woman   \n",
      "886         0       2    male  27.0      0  13.0000  Second    man   \n",
      "887         1       1  female  19.0      0  30.0000   First  woman   \n",
      "888         0       3  female   NaN      1  23.4500   Third  woman   \n",
      "889         1       1    male  26.0      0  30.0000   First    man   \n",
      "890         0       3    male  32.0      0   7.7500   Third    man   \n",
      "\n",
      "     adult_male deck  embark_town alive  alone  \n",
      "876        True  NaN  Southampton    no   True  \n",
      "877        True  NaN  Southampton    no   True  \n",
      "878        True  NaN  Southampton    no   True  \n",
      "879       False    C    Cherbourg   yes  False  \n",
      "880       False  NaN  Southampton   yes  False  \n",
      "881        True  NaN  Southampton    no   True  \n",
      "882       False  NaN  Southampton    no   True  \n",
      "883        True  NaN  Southampton    no   True  \n",
      "884        True  NaN  Southampton    no   True  \n",
      "885       False  NaN   Queenstown    no  False  \n",
      "886        True  NaN  Southampton    no   True  \n",
      "887       False    B  Southampton   yes   True  \n",
      "888       False  NaN  Southampton    no  False  \n",
      "889        True    C    Cherbourg   yes   True  \n",
      "890        True  NaN   Queenstown    no   True  \n"
     ]
    }
   ],
   "source": [
    "# your code here\n",
    "print(titanic)\n",
    "print(titanic.describe())\n",
    "print(titanic.head(5))\n",
    "print(titanic.head(15))\n",
    "print(titanic.tail(5))\n",
    "print(titanic.tail(15))\n",
    "print(titanic.sample(10))\n"
   ]
  },
  {
   "cell_type": "markdown",
   "metadata": {},
   "source": [
    "draw a histogram for age distribution using `matplotlib`"
   ]
  },
  {
   "cell_type": "code",
   "execution_count": 10,
   "metadata": {},
   "outputs": [
    {
     "data": {
      "text/plain": [
       "(array([ 54.,  46., 177., 169., 118.,  70.,  45.,  24.,   9.,   2.]),\n",
       " array([ 0.42 ,  8.378, 16.336, 24.294, 32.252, 40.21 , 48.168, 56.126,\n",
       "        64.084, 72.042, 80.   ]),\n",
       " <BarContainer object of 10 artists>)"
      ]
     },
     "execution_count": 10,
     "metadata": {},
     "output_type": "execute_result"
    },
    {
     "data": {
      "image/png": "[encoded data removed]",
      "text/plain": [
       "<Figure size 640x480 with 1 Axes>"
      ]
     },
     "metadata": {},
     "output_type": "display_data"
    }
   ],
   "source": [
    "# yoru code here\n",
    "plit.hist(titanic['age'])"
   ]
  },
  {
   "cell_type": "markdown",
   "metadata": {},
   "source": [
    "- Create a new DataFrame with only entries where age > 30.  \n",
    "- Give number of such entires\n",
    "- show only the women entries, how many  are there over the age of 30\n",
    "- the men entries, how many men are there over the age of 30\n",
    "- plot the new histogram for all ages >30, how does this histogram differ from the one you plotted above?"
   ]
  },
  {
   "cell_type": "code",
   "execution_count": 16,
   "metadata": {},
   "outputs": [
    {
     "data": {
      "text/plain": [
       "(array([88., 67., 47., 39., 24., 18., 14.,  3.,  4.,  1.]),\n",
       " array([30.5 , 35.45, 40.4 , 45.35, 50.3 , 55.25, 60.2 , 65.15, 70.1 ,\n",
       "        75.05, 80.  ]),\n",
       " <BarContainer object of 10 artists>)"
      ]
     },
     "execution_count": 16,
     "metadata": {},
     "output_type": "execute_result"
    },
    {
     "data": {
      "image/png": "[encoded data removed]",
      "text/plain": [
       "<Figure size 640x480 with 1 Axes>"
      ]
     },
     "metadata": {},
     "output_type": "display_data"
    }
   ],
   "source": [
    "# your code here\n",
    "age_filter = titanic['age'] > 30\n",
    "age_over_30 = titanic[age_filter]\n",
    "plit.hist(age_over_30['age'], color=\"orange\")\n",
    "\n",
    "#women_over_30_filter = age_over_30['who'] == 'woman'\n",
    "#age_over_30[women_over_30_filter]"
   ]
  },
  {
   "cell_type": "markdown",
   "metadata": {},
   "source": [
    "Use `pandas` to plot the pie chart of all classes on board the titanic.  "
   ]
  },
  {
   "cell_type": "code",
   "execution_count": 17,
   "metadata": {},
   "outputs": [
    {
     "data": {
      "text/plain": [
       "<Axes: ylabel='count'>"
      ]
     },
     "execution_count": 17,
     "metadata": {},
     "output_type": "execute_result"
    },
    {
     "data": {
      "image/png": "[encoded data removed]",
      "text/plain": [
       "<Figure size 640x480 with 1 Axes>"
      ]
     },
     "metadata": {},
     "output_type": "display_data"
    }
   ],
   "source": [
    "# your code here\n",
    "titanic['class'].value_counts().plot(kind=\"pie\")"
   ]
  },
  {
   "cell_type": "markdown",
   "metadata": {},
   "source": [
    "use `pandas` to plot the bar chart of all towns that people embarked from.  "
   ]
  },
  {
   "cell_type": "code",
   "execution_count": 18,
   "metadata": {},
   "outputs": [
    {
     "data": {
      "text/plain": [
       "<Axes: xlabel='embark_town'>"
      ]
     },
     "execution_count": 18,
     "metadata": {},
     "output_type": "execute_result"
    },
    {
     "data": {
      "image/png": "[encoded data removed]",
      "text/plain": [
       "<Figure size 640x480 with 1 Axes>"
      ]
     },
     "metadata": {},
     "output_type": "display_data"
    }
   ],
   "source": [
    "# your code here\n",
    "titanic['embark_town'].value_counts().plot(kind='bar')"
   ]
  },
  {
   "cell_type": "markdown",
   "metadata": {},
   "source": [
    "# part 2\n",
    "\n",
    "to be continued..."
   ]
  }
 ],
 "metadata": {
  "kernelspec": {
   "display_name": "Python 3",
   "language": "python",
   "name": "python3"
  },
  "language_info": {
   "codemirror_mode": {
    "name": "ipython",
    "version": 3
   },
   "file_extension": ".py",
   "mimetype": "text/x-python",
   "name": "python",
   "nbconvert_exporter": "python",
   "pygments_lexer": "ipython3",
   "version": "3.13.1"
  }
 },
 "nbformat": 4,
 "nbformat_minor": 2
}
